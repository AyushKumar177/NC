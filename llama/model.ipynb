{
 "cells": [
  {
   "cell_type": "code",
   "execution_count": null,
   "metadata": {},
   "outputs": [],
   "source": [
    "\n",
    "from langchain.prompts import PromptTemplate\n",
    "from langchain.llms import CTransformers\n",
    "\n",
    "\n"
   ]
  },
  {
   "cell_type": "code",
   "execution_count": null,
   "metadata": {},
   "outputs": [],
   "source": [
    "m='llama\\llama-2-7b-chat.ggmlv3.q2_K.bin'\n",
    "llm=CTransformers(model=m,model_type='llama',config={'max_new_tokens':256,'temperature':0.01})"
   ]
  },
  {
   "cell_type": "code",
   "execution_count": null,
   "metadata": {},
   "outputs": [],
   "source": [
    "\n",
    "def getLLamaresponse(input_text):\n",
    "\n",
    "    m='llama\\llama-2-7b-chat.ggmlv3.q2_K.bin'\n",
    "    llm=CTransformers(model=m,model_type='llama',config={'max_new_tokens':256,'temperature':0.01})\n",
    "\n",
    "    template=\"\"\"Write an article for a topic {input_text} \"\"\"\n",
    "    \n",
    "    prompt=PromptTemplate(input_variables=[\"input_text\"],template=template)\n",
    "    \n",
    "    response=llm(prompt.format(input_text=input_text))\n",
    "    print(response)\n",
    "    return response"
   ]
  },
  {
   "cell_type": "code",
   "execution_count": null,
   "metadata": {},
   "outputs": [],
   "source": []
  },
  {
   "cell_type": "code",
   "execution_count": null,
   "metadata": {},
   "outputs": [],
   "source": []
  }
 ],
 "metadata": {
  "language_info": {
   "name": "python"
  }
 },
 "nbformat": 4,
 "nbformat_minor": 2
}
